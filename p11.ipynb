{
 "cells": [
  {
   "cell_type": "code",
   "execution_count": 3,
   "metadata": {},
   "outputs": [],
   "source": [
    "import numpy as np\n",
    "from scipy import stats\n",
    "\n",
    "import matplotlib\n",
    "import matplotlib.pyplot as plt\n"
   ]
  },
  {
   "cell_type": "code",
   "execution_count": 19,
   "metadata": {},
   "outputs": [
    {
     "name": "stdout",
     "output_type": "stream",
     "text": [
      "MEAN IS 4.949999999999999\n",
      "MEDIAN IS: 4.9\n",
      "MODE IS: ModeResult(mode=array([3.7]), count=array([2]))\n",
      "POINT TO POINT FUNCTION: 8.700000000000001\n",
      "Variance 5.3935\n",
      "standard deviation 2.3223910092833204\n",
      "standard 0.5327930377291276\n"
     ]
    }
   ],
   "source": [
    "\n",
    "#inline within frontends like the Jupyter notebook, directly below the code cell that produced it.\n",
    "%matplotlib inline\n",
    "matplotlib.style.use('ggplot')\n",
    "\n",
    "n=[1.3,5.3,3.7,7.8,9.8,6.7,5.6,8.3,3.5,3.6,2.5,2.7,3.7,7.2,7.0,3.0,4.5,5.5,6.2,1.1]\n",
    "mean = np.mean(n);\n",
    "print(\"MEAN IS\",mean);\n",
    "print(\"MEDIAN IS:\",np.median(n));\n",
    "print(\"MODE IS:\",stats.mode(n));\n",
    "print(\"RANGE:\",np.ptp(n))\n",
    "print(\"Variance\",np.var(n));\n",
    "print(\"standard deviation\",np.std(n))\n",
    "print(\"standard\",stats.sem(n));\n"
   ]
  },
  {
   "cell_type": "code",
   "execution_count": 6,
   "metadata": {},
   "outputs": [
    {
     "data": {
      "text/plain": [
       "5.1"
      ]
     },
     "execution_count": 6,
     "metadata": {},
     "output_type": "execute_result"
    }
   ],
   "source": [
    "#Our measures of central tendency include mean, median or mode\n",
    "#Simple or arithmetic average of a range of values or quantities, \n",
    "#computed by dividing the total of all values by the number of values. \n",
    "#For example, the mean of 1, 2, 3, 4, and 5 is (15 ÷ 5) = 3\n",
    "# for the values 1, 2, 4, 7\n",
    "#The mean is the usual average:\n",
    "#(1 + 2 + 4 + 7) ÷ 4 = 14 ÷ 4 = 3.5\n",
    "\n",
    "mean = np.mean(data)\n",
    "mean\n"
   ]
  },
  {
   "cell_type": "code",
   "execution_count": 7,
   "metadata": {},
   "outputs": [
    {
     "data": {
      "text/plain": [
       "5.0"
      ]
     },
     "execution_count": 7,
     "metadata": {},
     "output_type": "execute_result"
    }
   ],
   "source": [
    "#The median is the middle number. \n",
    "#In this example, the numbers are already listed in numerical order, \n",
    "#so I don't have to rewrite the list. But there is no \"middle\" number, \n",
    "#because there are an even number of numbers. \n",
    "#Because of this, the median of the list will be the mean (that is, the usual average) \n",
    "#of the middle two values within the list. The middle two numbers are 2 and 4, so:\n",
    "#(2 + 4) ÷ 2 = 6 ÷ 2 = 3\n",
    "\n",
    "\n",
    "np.median(data)"
   ]
  },
  {
   "cell_type": "code",
   "execution_count": 8,
   "metadata": {},
   "outputs": [
    {
     "name": "stdout",
     "output_type": "stream",
     "text": [
      "The modal value is 5.0 with a count of 23\n"
     ]
    }
   ],
   "source": [
    "#The mode is the number that is repeated most often,\n",
    "#but all the numbers in this list appear only once, so there is no mode.\n",
    "mode = stats.mode(data)\n",
    "\n",
    "print(\"The modal value is {} with a count of {}\".format(mode.mode[0], mode.count[0]))"
   ]
  },
  {
   "cell_type": "code",
   "execution_count": 9,
   "metadata": {},
   "outputs": [
    {
     "data": {
      "text/plain": [
       "9.0"
      ]
     },
     "execution_count": 9,
     "metadata": {},
     "output_type": "execute_result"
    }
   ],
   "source": [
    "#he largest value in the list is 7, the smallest is 1, and their difference is 6, so the range is 6.\n",
    "#The range gives a measure of how spread apart the values are.\n",
    "#The range is simply calculated as the maximum value – minimum value\n",
    "#poin to point function\n",
    "np.ptp(data)   "
   ]
  },
  {
   "cell_type": "code",
   "execution_count": 10,
   "metadata": {},
   "outputs": [
    {
     "data": {
      "text/plain": [
       "3.07"
      ]
     },
     "execution_count": 10,
     "metadata": {},
     "output_type": "execute_result"
    }
   ],
   "source": [
    "\n",
    "#Variance (σ2) in statistics is a measurement of the spread between numbers in a data set. \n",
    "#That is, it measures how far each number in the set is from the mean and therefore from every other number in the set.\n",
    "np.var(data)"
   ]
  },
  {
   "cell_type": "code",
   "execution_count": 12,
   "metadata": {},
   "outputs": [
    {
     "data": {
      "text/plain": [
       "1.752141546793523"
      ]
     },
     "execution_count": 12,
     "metadata": {},
     "output_type": "execute_result"
    }
   ],
   "source": [
    "#The standard deviation is a statistic that measures the dispersion of a dataset relative to its mean \n",
    "#and is calculated as the square root of the variance. \n",
    "#It is calculated as the square root of variance by determining the variation \n",
    "#between each data point relative to the mean. \n",
    "#If the data points are further from the mean, there is a higher deviation within the data set; \n",
    "#thus, the more spread out the data, the higher the standard deviation.\n",
    "\n",
    "np.std(data)"
   ]
  },
  {
   "cell_type": "code",
   "execution_count": null,
   "metadata": {},
   "outputs": [],
   "source": [
    "#The standard error of the mean (SE of the mean) estimates the variability between sample means \n",
    "#that you would obtain if you took multiple samples from the same population. \n",
    "#The standard error of the mean estimates the variability between samples whereas \n",
    "#the standard deviation measures the variability within a single sample.\n",
    "stats.sem(data)"
   ]
  },
  {
   "cell_type": "code",
   "execution_count": null,
   "metadata": {},
   "outputs": [],
   "source": []
  }
 ],
 "metadata": {
  "kernelspec": {
   "display_name": "Python 3",
   "language": "python",
   "name": "python3"
  },
  "language_info": {
   "codemirror_mode": {
    "name": "ipython",
    "version": 3
   },
   "file_extension": ".py",
   "mimetype": "text/x-python",
   "name": "python",
   "nbconvert_exporter": "python",
   "pygments_lexer": "ipython3",
   "version": "3.7.1"
  }
 },
 "nbformat": 4,
 "nbformat_minor": 2
}
